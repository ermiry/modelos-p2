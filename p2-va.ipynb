{
 "cells": [
  {
   "cell_type": "code",
   "execution_count": 40,
   "metadata": {
    "id": "ZXpFnswniGq7"
   },
   "outputs": [],
   "source": [
    "# Erick Salas, Ricardo Whaibe, Max Escobar, Mariana Pena, Uriel Castenda, Aramis Quiroz\n",
    "import numpy as np\n",
    "import pandas as pd\n",
    "from scipy.optimize import linprog"
   ]
  },
  {
   "cell_type": "code",
   "execution_count": 41,
   "metadata": {
    "id": "kJMwtVqGkSnN"
   },
   "outputs": [],
   "source": [
    "url = 'https://raw.githubusercontent.com/ermiry/modelos-p2/main/TransporteBalanceado.csv'\n",
    "data_frame = pd.read_csv(url)"
   ]
  },
  {
   "cell_type": "code",
   "execution_count": 42,
   "metadata": {},
   "outputs": [],
   "source": [
    "#Funcion que verifica si esta balanceado\n",
    "def checar_balanceo (oferta, demanda):\n",
    "  oferta_sum = 0\n",
    "  demanda_sum = 0\n",
    "  for i in range(np.size(oferta)):\n",
    "    oferta_sum += oferta[i]\n",
    "\n",
    "  for i in range(np.size(demanda)):\n",
    "    demanda_sum += demanda[i]\n",
    "\n",
    "  return demanda_sum - oferta_sum"
   ]
  },
  {
   "cell_type": "code",
   "execution_count": 43,
   "metadata": {
    "id": "TJryNL6tq2t8"
   },
   "outputs": [],
   "source": [
    "loaded_matrix = data_frame.to_numpy()\n",
    "matriz = loaded_matrix[:-1,1:-1]\n",
    "oferta = loaded_matrix[0:-1,-1]\n",
    "demanda = loaded_matrix[-1,1:-1]"
   ]
  },
  {
   "cell_type": "code",
   "execution_count": 44,
   "metadata": {
    "colab": {
     "base_uri": "https://localhost:8080/"
    },
    "id": "7xcZtp7rPF0G",
    "outputId": "4d324c91-3e15-4fa6-9040-62bed4385446"
   },
   "outputs": [
    {
     "name": "stdout",
     "output_type": "stream",
     "text": [
      "[10 2 20 11 12 7 9 20 4 14 16 18]\n"
     ]
    }
   ],
   "source": [
    "objetivo = matriz.flatten()\n",
    "restricciones = np.zeros((len(oferta)+len(demanda),len(objetivo)))\n",
    "print(objetivo)"
   ]
  },
  {
   "cell_type": "code",
   "execution_count": 45,
   "metadata": {
    "colab": {
     "base_uri": "https://localhost:8080/"
    },
    "id": "6Szfvby21xpN",
    "outputId": "70bf5538-669f-4b86-f699-78c441d941f5"
   },
   "outputs": [
    {
     "name": "stdout",
     "output_type": "stream",
     "text": [
      "limite:  (3, 4)\n",
      "Demanda  [25 35 35 35]\n",
      "oferta  [45 55 30]\n",
      "matriz  [[10 2 20 11]\n",
      " [12 7 9 20]\n",
      " [4 14 16 18]]\n"
     ]
    }
   ],
   "source": [
    "limite = np.shape (matriz)\n",
    "\n",
    "print (\"limite: \", limite)\n",
    "\n",
    "# verificar si la matriz esta balanceada\n",
    "is_balanceada = checar_balanceo (oferta, demanda)\n",
    "\n",
    "# checar donde agregar columna o fila\n",
    "if (is_balanceada > 0): #Cuando se tiene que agregar una fila ficticia\n",
    "  fila = []\n",
    "  for i in range(limite[1]):\n",
    "      fila.append(0)\n",
    "  \n",
    "  matriz = np.append(matriz, [fila], axis = 0)\n",
    "  oferta = np.append(oferta, [is_balanceada], axis=0)\n",
    "\n",
    "elif (is_balanceada < 0):\n",
    "  is_balanceada *= -1\n",
    "  col = [[0]] * limite[0]\n",
    "  matriz = np.append (matriz,col, axis=1)\n",
    "  demanda = np.append (demanda, [is_balanceada], axis=0)\n",
    "\n",
    "limite = np.shape(matriz)\n",
    "print (\"Demanda \", demanda)\n",
    "print (\"oferta \", oferta)\n",
    "print (\"matriz \", matriz)"
   ]
  },
  {
   "cell_type": "code",
   "execution_count": 46,
   "metadata": {
    "colab": {
     "base_uri": "https://localhost:8080/"
    },
    "id": "Bw-6FJ8TDCpx",
    "outputId": "c9ec55b6-9fa3-4f08-c0b1-f119f605d882"
   },
   "outputs": [
    {
     "name": "stdout",
     "output_type": "stream",
     "text": [
      "[[1. 1. 1. 1. 0. 0. 0. 0. 0. 0. 0. 0.]\n",
      " [0. 0. 0. 0. 1. 1. 1. 1. 0. 0. 0. 0.]\n",
      " [0. 0. 0. 0. 0. 0. 0. 0. 1. 1. 1. 1.]\n",
      " [1. 0. 0. 0. 1. 0. 0. 0. 1. 0. 0. 0.]\n",
      " [0. 1. 0. 0. 0. 1. 0. 0. 0. 1. 0. 0.]\n",
      " [0. 0. 1. 0. 0. 0. 1. 0. 0. 0. 1. 0.]\n",
      " [0. 0. 0. 1. 0. 0. 0. 1. 0. 0. 0. 1.]]\n"
     ]
    }
   ],
   "source": [
    "count_objetivo = 0\n",
    "for i in range(limite[0]):\n",
    "  for j in range(limite[1]):\n",
    "    if matriz[i,j] == objetivo[count_objetivo]:\n",
    "      restricciones[i,count_objetivo] = 1\n",
    "    count_objetivo += 1\n",
    "\n",
    "copia = list(objetivo)\n",
    "for i in range(limite[1]):\n",
    "  for j in range(limite[0]):\n",
    "    indice = copia.index(matriz[j,i])\n",
    "    copia[indice] = -1\n",
    "    restricciones[limite[0]+i,indice] = 1\n",
    "\n",
    "print(restricciones)"
   ]
  },
  {
   "cell_type": "code",
   "execution_count": 47,
   "metadata": {
    "colab": {
     "base_uri": "https://localhost:8080/"
    },
    "id": "aMtHxNt_n3V1",
    "outputId": "b3c40e57-899d-4507-88a8-3a9ff6aa4984"
   },
   "outputs": [
    {
     "name": "stdout",
     "output_type": "stream",
     "text": [
      "[45 55 30 25 35 35 35]\n"
     ]
    }
   ],
   "source": [
    "limiteRestricciones = np.concatenate((oferta,demanda),axis = 0)\n",
    "print(limiteRestricciones)"
   ]
  },
  {
   "cell_type": "code",
   "execution_count": 48,
   "metadata": {
    "colab": {
     "base_uri": "https://localhost:8080/"
    },
    "id": "9mdzg1vWtosB",
    "outputId": "77eac009-e6b2-4e48-b9e8-5424c8feaabd"
   },
   "outputs": [
    {
     "name": "stdout",
     "output_type": "stream",
     "text": [
      "Funcion Objetivo : 1005.0\n",
      "X0 = 0.0\n",
      "X1 = 15.0\n",
      "X2 = 0.0\n",
      "X3 = 30.0\n",
      "X4 = 0.0\n",
      "X5 = 20.0\n",
      "X6 = 35.0\n",
      "X7 = 0.0\n",
      "X8 = 25.0\n",
      "X9 = 0.0\n",
      "X10 = 0.0\n",
      "X11 = 5.0\n"
     ]
    },
    {
     "name": "stderr",
     "output_type": "stream",
     "text": [
      "/srv/conda/envs/notebook/lib/python3.6/site-packages/ipykernel_launcher.py:1: OptimizeWarning: A_eq does not appear to be of full row rank. To improve performance, check the problem formulation for redundant equality constraints.\n",
      "  \"\"\"Entry point for launching an IPython kernel.\n"
     ]
    }
   ],
   "source": [
    "res = linprog(objetivo,None,None,restricciones,limiteRestricciones,None,method='simplex')\n",
    "print(f'Funcion Objetivo : {res.fun}')\n",
    "\n",
    "unidades = []\n",
    "for i,x_val in enumerate(res.x):\n",
    "  print(f'X{i} = {x_val}')\n",
    "  unidades.append(x_val)"
   ]
  },
  {
   "cell_type": "code",
   "execution_count": 49,
   "metadata": {
    "colab": {
     "base_uri": "https://localhost:8080/"
    },
    "id": "bqiYebp7BeoP",
    "outputId": "ba153b3d-35ca-4784-ad09-4fa66fbcfa7c"
   },
   "outputs": [
    {
     "name": "stdout",
     "output_type": "stream",
     "text": [
      "[[ 0. 15.  0. 30.]\n",
      " [ 0. 20. 35.  0.]\n",
      " [25.  0.  0.  5.]]\n"
     ]
    }
   ],
   "source": [
    "res = np.zeros((limite[0],limite[1]))\n",
    "count = 0\n",
    "for i in range (limite[0]):\n",
    "  for j in range (limite[1]):\n",
    "    res[i, j] = unidades[count]\n",
    "    count += 1\n",
    "\n",
    "print (res)"
   ]
  }
 ],
 "metadata": {
  "colab": {
   "collapsed_sections": [],
   "name": "P2.ipynb",
   "provenance": []
  },
  "kernelspec": {
   "display_name": "Python 3",
   "language": "python",
   "name": "python3"
  },
  "language_info": {
   "codemirror_mode": {
    "name": "ipython",
    "version": 3
   },
   "file_extension": ".py",
   "mimetype": "text/x-python",
   "name": "python",
   "nbconvert_exporter": "python",
   "pygments_lexer": "ipython3",
   "version": "3.6.13"
  }
 },
 "nbformat": 4,
 "nbformat_minor": 1
}
